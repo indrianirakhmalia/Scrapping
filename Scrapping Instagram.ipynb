{
 "cells": [
  {
   "cell_type": "code",
   "execution_count": 1,
   "metadata": {
    "ExecuteTime": {
     "end_time": "2021-04-15T22:20:32.656037Z",
     "start_time": "2021-04-15T22:20:32.179301Z"
    }
   },
   "outputs": [],
   "source": [
    "import json\n",
    "import pandas as pd\n",
    "from datetime import datetime"
   ]
  },
  {
   "cell_type": "code",
   "execution_count": 2,
   "metadata": {
    "ExecuteTime": {
     "end_time": "2021-04-15T23:40:18.042225Z",
     "start_time": "2021-04-15T23:40:18.036804Z"
    }
   },
   "outputs": [],
   "source": [
    "def timestamp_to_dttm(ts, dot=None):\n",
    "    dttm = datetime.fromtimestamp(int(ts))\n",
    "    if dot == 'date':\n",
    "        return dttm.strftime(\"%Y/%m/%d\")        \n",
    "    if dot == \"time\":\n",
    "        return dttm.strftime(\"%H:%M:%S\")        \n",
    "    if not dot:\n",
    "        return dttm.strftime(\"%Y/%m/%d %H:%M:%S\")"
   ]
  },
  {
   "cell_type": "code",
   "execution_count": 3,
   "metadata": {
    "ExecuteTime": {
     "end_time": "2021-04-15T23:40:18.447891Z",
     "start_time": "2021-04-15T23:40:18.358547Z"
    }
   },
   "outputs": [
    {
     "data": {
      "text/plain": [
       "416"
      ]
     },
     "execution_count": 3,
     "metadata": {},
     "output_type": "execute_result"
    }
   ],
   "source": [
    "datas = json.load(open('D:/Data Analyst01.json',encoding='utf8'))['GraphImages']\n",
    "data_profile = json.load(open('D:/Data Analyst.json',encoding='utf8'))['GraphProfileInfo']\n",
    "len(datas)"
   ]
  },
  {
   "cell_type": "code",
   "execution_count": 4,
   "metadata": {
    "ExecuteTime": {
     "end_time": "2021-04-15T23:40:19.140188Z",
     "start_time": "2021-04-15T23:40:19.134427Z"
    }
   },
   "outputs": [
    {
     "data": {
      "text/plain": [
       "{'created_time': 1286323200,\n",
       " 'info': {'biography': 'By @dienlimano & @natasyalimano\\n• Mindset | Fitness | Nutrition\\n• Program GRATIS atau BERBAYAR (113rb/bln*)?\\n🔻🔻🔻🔻🔻 Klik link ini',\n",
       "  'followers_count': 283868,\n",
       "  'following_count': 3,\n",
       "  'full_name': 'GGL | Gak Gendut Lagi',\n",
       "  'id': '29065680692',\n",
       "  'is_business_account': True,\n",
       "  'is_joined_recently': False,\n",
       "  'is_private': False,\n",
       "  'posts_count': 416,\n",
       "  'profile_pic_url': 'https://instagram.fbdo9-1.fna.fbcdn.net/v/t51.2885-19/s150x150/152985327_506053017064503_8612668110381514198_n.jpg?tp=1&_nc_ht=instagram.fbdo9-1.fna.fbcdn.net&_nc_cat=103&_nc_ohc=hBul6gxRBaIAX9T7-w5&edm=ABfd0MgAAAAA&ccb=7-4&oh=75e830a682c3ca8c612c81e7c0f953a2&oe=609E28DE&_nc_sid=7bff83'},\n",
       " 'username': 'gakgendutlagi'}"
      ]
     },
     "execution_count": 4,
     "metadata": {},
     "output_type": "execute_result"
    }
   ],
   "source": [
    "data_profile"
   ]
  },
  {
   "cell_type": "code",
   "execution_count": 5,
   "metadata": {
    "ExecuteTime": {
     "end_time": "2021-04-15T23:40:20.048223Z",
     "start_time": "2021-04-15T23:40:20.031622Z"
    }
   },
   "outputs": [],
   "source": [
    "_result = []\n",
    "ig_post_url = \"https://www.instagram.com/p\"\n",
    "\n",
    "for data in datas:\n",
    "    result = { \"account_created\": timestamp_to_dttm(data_profile['created_time'])\n",
    "              , \"username\": data_profile['username']\n",
    "              , \"full_name\": data_profile['info']['full_name']\n",
    "              , \"following\": data_profile['info']['following_count']\n",
    "              , \"folowers\": data_profile['info']['followers_count']\n",
    "              , \"post_url\": f\"{ig_post_url}/{data['shortcode']}\"\n",
    "              , \"img_url\": data['display_url']\n",
    "              , \"caption\" : data['edge_media_to_caption']['edges'][0]['node']['text'] if len(data['edge_media_to_caption']['edges']) > 0 else \"\"\n",
    "              , \"post_date\": timestamp_to_dttm(data['taken_at_timestamp'], \"date\")\n",
    "              , \"post_time\": timestamp_to_dttm(data['taken_at_timestamp'], \"time\")\n",
    "              , \"cnt_likes\": data['edge_media_preview_like']['count']\n",
    "              , \"cnt_comment\": data['edge_media_to_comment']['count']\n",
    "    }\n",
    "    _result.append(result)"
   ]
  },
  {
   "cell_type": "code",
   "execution_count": 6,
   "metadata": {
    "ExecuteTime": {
     "end_time": "2021-04-15T23:43:32.800733Z",
     "start_time": "2021-04-15T23:43:32.772747Z"
    }
   },
   "outputs": [
    {
     "data": {
      "text/plain": [
       "416"
      ]
     },
     "execution_count": 6,
     "metadata": {},
     "output_type": "execute_result"
    }
   ],
   "source": [
    "df = pd.DataFrame(_result)\n",
    "len(df)"
   ]
  },
  {
   "cell_type": "code",
   "execution_count": 7,
   "metadata": {
    "ExecuteTime": {
     "end_time": "2021-04-15T23:40:21.875496Z",
     "start_time": "2021-04-15T23:40:21.858292Z"
    }
   },
   "outputs": [
    {
     "data": {
      "text/html": [
       "<div>\n",
       "<style scoped>\n",
       "    .dataframe tbody tr th:only-of-type {\n",
       "        vertical-align: middle;\n",
       "    }\n",
       "\n",
       "    .dataframe tbody tr th {\n",
       "        vertical-align: top;\n",
       "    }\n",
       "\n",
       "    .dataframe thead th {\n",
       "        text-align: right;\n",
       "    }\n",
       "</style>\n",
       "<table border=\"1\" class=\"dataframe\">\n",
       "  <thead>\n",
       "    <tr style=\"text-align: right;\">\n",
       "      <th></th>\n",
       "      <th>account_created</th>\n",
       "      <th>caption</th>\n",
       "      <th>cnt_comment</th>\n",
       "      <th>cnt_likes</th>\n",
       "      <th>following</th>\n",
       "      <th>folowers</th>\n",
       "      <th>full_name</th>\n",
       "      <th>img_url</th>\n",
       "      <th>post_date</th>\n",
       "      <th>post_time</th>\n",
       "      <th>post_url</th>\n",
       "      <th>username</th>\n",
       "    </tr>\n",
       "  </thead>\n",
       "  <tbody>\n",
       "    <tr>\n",
       "      <th>413</th>\n",
       "      <td>2010/10/06 07:00:00</td>\n",
       "      <td>Tambah sehat, tambah langsung, tambah seger da...</td>\n",
       "      <td>0</td>\n",
       "      <td>40</td>\n",
       "      <td>3</td>\n",
       "      <td>283868</td>\n",
       "      <td>GGL | Gak Gendut Lagi</td>\n",
       "      <td>https://instagram.fbdo9-1.fna.fbcdn.net/v/t51....</td>\n",
       "      <td>2020/01/25</td>\n",
       "      <td>10:42:11</td>\n",
       "      <td>https://www.instagram.com/p/B7ulm6hHlFl</td>\n",
       "      <td>gakgendutlagi</td>\n",
       "    </tr>\n",
       "    <tr>\n",
       "      <th>414</th>\n",
       "      <td>2010/10/06 07:00:00</td>\n",
       "      <td>Diet itu tidak susah dan tidak perlu melakukan...</td>\n",
       "      <td>0</td>\n",
       "      <td>60</td>\n",
       "      <td>3</td>\n",
       "      <td>283868</td>\n",
       "      <td>GGL | Gak Gendut Lagi</td>\n",
       "      <td>https://instagram.fbdo9-1.fna.fbcdn.net/v/t51....</td>\n",
       "      <td>2020/01/25</td>\n",
       "      <td>10:33:36</td>\n",
       "      <td>https://www.instagram.com/p/B7ukoCAHYpf</td>\n",
       "      <td>gakgendutlagi</td>\n",
       "    </tr>\n",
       "    <tr>\n",
       "      <th>415</th>\n",
       "      <td>2010/10/06 07:00:00</td>\n",
       "      <td></td>\n",
       "      <td>6</td>\n",
       "      <td>103</td>\n",
       "      <td>3</td>\n",
       "      <td>283868</td>\n",
       "      <td>GGL | Gak Gendut Lagi</td>\n",
       "      <td>https://instagram.fbdo9-1.fna.fbcdn.net/v/t51....</td>\n",
       "      <td>2020/01/25</td>\n",
       "      <td>10:12:32</td>\n",
       "      <td>https://www.instagram.com/p/B7uiNsin2S6</td>\n",
       "      <td>gakgendutlagi</td>\n",
       "    </tr>\n",
       "  </tbody>\n",
       "</table>\n",
       "</div>"
      ],
      "text/plain": [
       "         account_created                                            caption  \\\n",
       "413  2010/10/06 07:00:00  Tambah sehat, tambah langsung, tambah seger da...   \n",
       "414  2010/10/06 07:00:00  Diet itu tidak susah dan tidak perlu melakukan...   \n",
       "415  2010/10/06 07:00:00                                                      \n",
       "\n",
       "     cnt_comment  cnt_likes  following  folowers              full_name  \\\n",
       "413            0         40          3    283868  GGL | Gak Gendut Lagi   \n",
       "414            0         60          3    283868  GGL | Gak Gendut Lagi   \n",
       "415            6        103          3    283868  GGL | Gak Gendut Lagi   \n",
       "\n",
       "                                               img_url   post_date post_time  \\\n",
       "413  https://instagram.fbdo9-1.fna.fbcdn.net/v/t51....  2020/01/25  10:42:11   \n",
       "414  https://instagram.fbdo9-1.fna.fbcdn.net/v/t51....  2020/01/25  10:33:36   \n",
       "415  https://instagram.fbdo9-1.fna.fbcdn.net/v/t51....  2020/01/25  10:12:32   \n",
       "\n",
       "                                    post_url       username  \n",
       "413  https://www.instagram.com/p/B7ulm6hHlFl  gakgendutlagi  \n",
       "414  https://www.instagram.com/p/B7ukoCAHYpf  gakgendutlagi  \n",
       "415  https://www.instagram.com/p/B7uiNsin2S6  gakgendutlagi  "
      ]
     },
     "execution_count": 7,
     "metadata": {},
     "output_type": "execute_result"
    }
   ],
   "source": [
    "df.tail(3)"
   ]
  },
  {
   "cell_type": "code",
   "execution_count": 11,
   "metadata": {
    "ExecuteTime": {
     "end_time": "2021-04-15T23:43:51.201859Z",
     "start_time": "2021-04-15T23:43:51.174478Z"
    }
   },
   "outputs": [],
   "source": [
    "df.to_csv(\"D:/Data Analyst/GGL.csv\", sep=';', index=False)"
   ]
  },
  {
   "cell_type": "code",
   "execution_count": 16,
   "metadata": {},
   "outputs": [],
   "source": [
    "#sort by year ascending false(descending)\n",
    "top=df.sort_values(\"cnt_likes\",ascending=False)"
   ]
  },
  {
   "cell_type": "code",
   "execution_count": 17,
   "metadata": {},
   "outputs": [],
   "source": [
    "top5=top.head()"
   ]
  },
  {
   "cell_type": "code",
   "execution_count": 18,
   "metadata": {},
   "outputs": [
    {
     "data": {
      "text/html": [
       "<div>\n",
       "<style scoped>\n",
       "    .dataframe tbody tr th:only-of-type {\n",
       "        vertical-align: middle;\n",
       "    }\n",
       "\n",
       "    .dataframe tbody tr th {\n",
       "        vertical-align: top;\n",
       "    }\n",
       "\n",
       "    .dataframe thead th {\n",
       "        text-align: right;\n",
       "    }\n",
       "</style>\n",
       "<table border=\"1\" class=\"dataframe\">\n",
       "  <thead>\n",
       "    <tr style=\"text-align: right;\">\n",
       "      <th></th>\n",
       "      <th>account_created</th>\n",
       "      <th>caption</th>\n",
       "      <th>cnt_comment</th>\n",
       "      <th>cnt_likes</th>\n",
       "      <th>following</th>\n",
       "      <th>folowers</th>\n",
       "      <th>full_name</th>\n",
       "      <th>img_url</th>\n",
       "      <th>post_date</th>\n",
       "      <th>post_time</th>\n",
       "      <th>post_url</th>\n",
       "      <th>username</th>\n",
       "    </tr>\n",
       "  </thead>\n",
       "  <tbody>\n",
       "    <tr>\n",
       "      <th>90</th>\n",
       "      <td>2010/10/06 07:00:00</td>\n",
       "      <td>Ini nih sarapan yang bikin kamu cepet langsing...</td>\n",
       "      <td>71</td>\n",
       "      <td>2951</td>\n",
       "      <td>3</td>\n",
       "      <td>283868</td>\n",
       "      <td>GGL | Gak Gendut Lagi</td>\n",
       "      <td>https://instagram.fbdo9-1.fna.fbcdn.net/v/t51....</td>\n",
       "      <td>2021/03/10</td>\n",
       "      <td>09:04:06</td>\n",
       "      <td>https://www.instagram.com/p/CMOITMulo_o</td>\n",
       "      <td>gakgendutlagi</td>\n",
       "    </tr>\n",
       "    <tr>\n",
       "      <th>65</th>\n",
       "      <td>2010/10/06 07:00:00</td>\n",
       "      <td>Diet nggak harus dimulai dengan SEMPURNA. Peru...</td>\n",
       "      <td>65</td>\n",
       "      <td>2488</td>\n",
       "      <td>3</td>\n",
       "      <td>283868</td>\n",
       "      <td>GGL | Gak Gendut Lagi</td>\n",
       "      <td>https://instagram.fbdo9-1.fna.fbcdn.net/v/t51....</td>\n",
       "      <td>2021/03/20</td>\n",
       "      <td>17:49:58</td>\n",
       "      <td>https://www.instagram.com/p/CMo0biPlWsb</td>\n",
       "      <td>gakgendutlagi</td>\n",
       "    </tr>\n",
       "    <tr>\n",
       "      <th>290</th>\n",
       "      <td>2010/10/06 07:00:00</td>\n",
       "      <td>Lemak membandel? 😂😂😂 mungkin mulut yg membande...</td>\n",
       "      <td>88</td>\n",
       "      <td>2155</td>\n",
       "      <td>3</td>\n",
       "      <td>283868</td>\n",
       "      <td>GGL | Gak Gendut Lagi</td>\n",
       "      <td>https://instagram.fbdo9-1.fna.fbcdn.net/v/t51....</td>\n",
       "      <td>2020/07/04</td>\n",
       "      <td>12:14:32</td>\n",
       "      <td>https://www.instagram.com/p/CCNTuGHFIHg</td>\n",
       "      <td>gakgendutlagi</td>\n",
       "    </tr>\n",
       "    <tr>\n",
       "      <th>72</th>\n",
       "      <td>2010/10/06 07:00:00</td>\n",
       "      <td>Eits, tapi kenali kondisi tubuhmu terlebih dah...</td>\n",
       "      <td>40</td>\n",
       "      <td>1690</td>\n",
       "      <td>3</td>\n",
       "      <td>283868</td>\n",
       "      <td>GGL | Gak Gendut Lagi</td>\n",
       "      <td>https://instagram.fbdo9-1.fna.fbcdn.net/v/t51....</td>\n",
       "      <td>2021/03/17</td>\n",
       "      <td>11:54:34</td>\n",
       "      <td>https://www.instagram.com/p/CMgdX99laUm</td>\n",
       "      <td>gakgendutlagi</td>\n",
       "    </tr>\n",
       "    <tr>\n",
       "      <th>295</th>\n",
       "      <td>2010/10/06 07:00:00</td>\n",
       "      <td>Salah satu pemenang GGL Challenge bulan Mei @e...</td>\n",
       "      <td>68</td>\n",
       "      <td>1516</td>\n",
       "      <td>3</td>\n",
       "      <td>283868</td>\n",
       "      <td>GGL | Gak Gendut Lagi</td>\n",
       "      <td>https://instagram.fbdo9-1.fna.fbcdn.net/v/t51....</td>\n",
       "      <td>2020/06/19</td>\n",
       "      <td>18:30:48</td>\n",
       "      <td>https://www.instagram.com/p/CBnXS1Vl5cM</td>\n",
       "      <td>gakgendutlagi</td>\n",
       "    </tr>\n",
       "  </tbody>\n",
       "</table>\n",
       "</div>"
      ],
      "text/plain": [
       "         account_created                                            caption  \\\n",
       "90   2010/10/06 07:00:00  Ini nih sarapan yang bikin kamu cepet langsing...   \n",
       "65   2010/10/06 07:00:00  Diet nggak harus dimulai dengan SEMPURNA. Peru...   \n",
       "290  2010/10/06 07:00:00  Lemak membandel? 😂😂😂 mungkin mulut yg membande...   \n",
       "72   2010/10/06 07:00:00  Eits, tapi kenali kondisi tubuhmu terlebih dah...   \n",
       "295  2010/10/06 07:00:00  Salah satu pemenang GGL Challenge bulan Mei @e...   \n",
       "\n",
       "     cnt_comment  cnt_likes  following  folowers              full_name  \\\n",
       "90            71       2951          3    283868  GGL | Gak Gendut Lagi   \n",
       "65            65       2488          3    283868  GGL | Gak Gendut Lagi   \n",
       "290           88       2155          3    283868  GGL | Gak Gendut Lagi   \n",
       "72            40       1690          3    283868  GGL | Gak Gendut Lagi   \n",
       "295           68       1516          3    283868  GGL | Gak Gendut Lagi   \n",
       "\n",
       "                                               img_url   post_date post_time  \\\n",
       "90   https://instagram.fbdo9-1.fna.fbcdn.net/v/t51....  2021/03/10  09:04:06   \n",
       "65   https://instagram.fbdo9-1.fna.fbcdn.net/v/t51....  2021/03/20  17:49:58   \n",
       "290  https://instagram.fbdo9-1.fna.fbcdn.net/v/t51....  2020/07/04  12:14:32   \n",
       "72   https://instagram.fbdo9-1.fna.fbcdn.net/v/t51....  2021/03/17  11:54:34   \n",
       "295  https://instagram.fbdo9-1.fna.fbcdn.net/v/t51....  2020/06/19  18:30:48   \n",
       "\n",
       "                                    post_url       username  \n",
       "90   https://www.instagram.com/p/CMOITMulo_o  gakgendutlagi  \n",
       "65   https://www.instagram.com/p/CMo0biPlWsb  gakgendutlagi  \n",
       "290  https://www.instagram.com/p/CCNTuGHFIHg  gakgendutlagi  \n",
       "72   https://www.instagram.com/p/CMgdX99laUm  gakgendutlagi  \n",
       "295  https://www.instagram.com/p/CBnXS1Vl5cM  gakgendutlagi  "
      ]
     },
     "execution_count": 18,
     "metadata": {},
     "output_type": "execute_result"
    }
   ],
   "source": [
    "top5"
   ]
  },
  {
   "cell_type": "markdown",
   "metadata": {},
   "source": [
    "# Seaborn"
   ]
  },
  {
   "cell_type": "code",
   "execution_count": 11,
   "metadata": {
    "ExecuteTime": {
     "end_time": "2021-04-15T22:45:05.174828Z",
     "start_time": "2021-04-15T22:45:05.171158Z"
    }
   },
   "outputs": [],
   "source": [
    "from matplotlib import pyplot as plt\n",
    "import seaborn as sns"
   ]
  },
  {
   "cell_type": "code",
   "execution_count": 13,
   "metadata": {
    "ExecuteTime": {
     "end_time": "2021-04-15T22:45:17.783810Z",
     "start_time": "2021-04-15T22:45:17.599492Z"
    }
   },
   "outputs": [
    {
     "ename": "AttributeError",
     "evalue": "module 'seaborn' has no attribute 'histplot'",
     "output_type": "error",
     "traceback": [
      "\u001b[1;31m---------------------------------------------------------------------------\u001b[0m",
      "\u001b[1;31mAttributeError\u001b[0m                            Traceback (most recent call last)",
      "\u001b[1;32m<ipython-input-13-48dda694d222>\u001b[0m in \u001b[0;36m<module>\u001b[1;34m\u001b[0m\n\u001b[1;32m----> 1\u001b[1;33m \u001b[0msns\u001b[0m\u001b[1;33m.\u001b[0m\u001b[0mhistplot\u001b[0m\u001b[1;33m(\u001b[0m\u001b[0mdata\u001b[0m\u001b[1;33m=\u001b[0m\u001b[0mdf\u001b[0m \u001b[1;33m,\u001b[0m\u001b[0mx\u001b[0m\u001b[1;33m=\u001b[0m\u001b[1;34m'cnt_likes'\u001b[0m\u001b[1;33m,\u001b[0m \u001b[0mbins\u001b[0m\u001b[1;33m=\u001b[0m\u001b[1;36m10\u001b[0m\u001b[1;33m)\u001b[0m\u001b[1;33m\u001b[0m\u001b[1;33m\u001b[0m\u001b[0m\n\u001b[0m",
      "\u001b[1;31mAttributeError\u001b[0m: module 'seaborn' has no attribute 'histplot'"
     ]
    }
   ],
   "source": [
    "sns.histplot(data=df ,x='cnt_likes', bins=10)"
   ]
  },
  {
   "cell_type": "code",
   "execution_count": 19,
   "metadata": {},
   "outputs": [
    {
     "data": {
      "text/plain": [
       "<matplotlib.axes._subplots.AxesSubplot at 0x92bc05e5f8>"
      ]
     },
     "execution_count": 19,
     "metadata": {},
     "output_type": "execute_result"
    },
    {
     "data": {
      "image/png": "[encoded data removed]",
      "text/plain": [
       "<Figure size 432x288 with 1 Axes>"
      ]
     },
     "metadata": {
      "needs_background": "light"
     },
     "output_type": "display_data"
    }
   ],
   "source": [
    "sns.barplot(x='post_time',y='cnt_likes',data=top5)"
   ]
  }
 ],
 "metadata": {
  "kernelspec": {
   "display_name": "Python 3",
   "language": "python",
   "name": "python3"
  },
  "language_info": {
   "codemirror_mode": {
    "name": "ipython",
    "version": 3
   },
   "file_extension": ".py",
   "mimetype": "text/x-python",
   "name": "python",
   "nbconvert_exporter": "python",
   "pygments_lexer": "ipython3",
   "version": "3.7.1"
  }
 },
 "nbformat": 4,
 "nbformat_minor": 5
}
